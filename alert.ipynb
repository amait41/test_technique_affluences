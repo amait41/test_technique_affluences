{
 "cells": [
  {
   "cell_type": "code",
   "execution_count": 111,
   "metadata": {},
   "outputs": [],
   "source": [
    "import pandas as pd\n",
    "import warnings\n",
    "warnings.simplefilter(\"ignore\")\n",
    "\n",
    "def is_open(df_timetables, site_id, time):\n",
    "    \"Check if site is open\"\n",
    "    site = df_timetables[df_timetables.site_id == site_id]\n",
    "    for index, row in df_timetables.iterrows():\n",
    "        site_opening_datetime = row['opening_datetime']\n",
    "        site_closing_datetime = row['closing_datetime']\n",
    "    return (time > site_opening_datetime) & (time < site_closing_datetime)\n",
    "# load data\n",
    "fp_data = '/home/amait/Téléchargements/Test_technique_data_engineer_Affluences/data.csv'\n",
    "data = pd.read_csv(fp_data, delimiter=',')\n",
    "fp_time = '/home/amait/Téléchargements/Test_technique_data_engineer_Affluences/timetables.csv'\n",
    "timetables = pd.read_csv(fp_time, delimiter=',')\n",
    "\n",
    "def main():\n",
    "    # copy\n",
    "    df_data = data.copy()\n",
    "    df_timetables = timetables.copy()\n",
    "\n",
    "    # to_datetime\n",
    "    df_data.last_record_datetime = df_data.last_record_datetime.apply(pd.to_datetime)\n",
    "    df_timetables.opening_datetime = df_timetables.opening_datetime.apply(pd.to_datetime)\n",
    "    df_timetables.closing_datetime = df_timetables.closing_datetime.apply(pd.to_datetime)\n",
    "\n",
    "    # add delta column\n",
    "    time = pd.to_datetime(\"today\")\n",
    "    df_data['last_record_datetime2'] = time - df_data.last_record_datetime\n",
    "\n",
    "    # add alert column\n",
    "    df_data['alert'] = time - df_data.last_record_datetime\n",
    "    mask0 = df_data.last_record_datetime2 < pd.to_timedelta(\"0 days 02:00:00.00000\")\n",
    "    mask1 = (df_data.last_record_datetime2 >= pd.to_timedelta(\"0 days 02:00:00.00000\")) & \\\n",
    "            (df_data.last_record_datetime2 < pd.to_timedelta(\"1 days 00:00:00.00000\"))\n",
    "    mask2 = (df_data.last_record_datetime2 >= pd.to_timedelta(\"1 days 00:00:00.00000\")) & \\\n",
    "            (df_data.last_record_datetime2 < pd.to_timedelta(\"2 days 00:00:00.00000\"))\n",
    "    mask3 = df_data.last_record_datetime2 > pd.to_timedelta(\"2 days 00:00:00.00000\")\n",
    "    df_data.loc[:,'alert'].loc[mask0] = 0\n",
    "    df_data.loc[:,'alert'].loc[mask1] = 1\n",
    "    df_data.loc[:,'alert'].loc[mask2] = 2\n",
    "    df_data.loc[:,'alert'].loc[mask3] = 3\n",
    "\n",
    "    # delete row without alert\n",
    "    df_data = df_data[df_data.alert > 0]\n",
    "\n",
    "    res = ''\n",
    "    for index, row in df_data.iterrows():\n",
    "        site_id = row['site_id']\n",
    "        if is_open(df_timetables, site_id, time):\n",
    "            res += f\"Sensor {row['sensor_name']} with identifier {row['sensor_identifier']} \\\n",
    "                triggers an alert at {time} with level {row['alert']} with last data recorded \\\n",
    "                at {row['last_record_datetime']}\\n\"\n",
    "    \n",
    "    if len(res) == 0:\n",
    "        print(\"Pas d'anomalie.\")\n",
    "    else:\n",
    "        print(res)"
   ]
  },
  {
   "cell_type": "code",
   "execution_count": 112,
   "metadata": {},
   "outputs": [
    {
     "name": "stdout",
     "output_type": "stream",
     "text": [
      "Pas d'anomalie.\n"
     ]
    }
   ],
   "source": [
    "main()"
   ]
  }
 ],
 "metadata": {
  "kernelspec": {
   "display_name": "Python 3",
   "language": "python",
   "name": "python3"
  },
  "language_info": {
   "codemirror_mode": {
    "name": "ipython",
    "version": 3
   },
   "file_extension": ".py",
   "mimetype": "text/x-python",
   "name": "python",
   "nbconvert_exporter": "python",
   "pygments_lexer": "ipython3",
   "version": "3.8.5"
  }
 },
 "nbformat": 4,
 "nbformat_minor": 4
}
